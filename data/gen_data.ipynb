{
 "cells": [
  {
   "cell_type": "code",
   "execution_count": 1,
   "metadata": {},
   "outputs": [
    {
     "data": {
      "text/plain": [
       "'/Users/dongzheng/Codes/PythonWorkspace/CSE5005-Project/data'"
      ]
     },
     "execution_count": 1,
     "metadata": {},
     "output_type": "execute_result"
    }
   ],
   "source": [
    "import pandas as pd\n",
    "import numpy as np\n",
    "import bitcoin\n",
    "import datetime\n",
    "from ping3 import ping\n",
    "import random\n",
    "import json\n",
    "import re\n",
    "import multiprocess as mp\n",
    "\n",
    "from IPython.core.interactiveshell import InteractiveShell\n",
    "InteractiveShell.ast_node_interactivity = \"all\"\n",
    "\n",
    "%pwd"
   ]
  },
  {
   "cell_type": "code",
   "execution_count": 3,
   "metadata": {},
   "outputs": [],
   "source": [
    "def gen_addr():\n",
    "    # 生成一个随机的密钥\n",
    "    while True:\n",
    "        # 生成一个用十六进制表示的长 256 位的私钥（str类型）\n",
    "        private_key = bitcoin.random_key()\n",
    "        # 解码为十进制的整形密钥\n",
    "        decoded_private_key = bitcoin.decode_privkey(private_key, 'hex')\n",
    "        if 0 < decoded_private_key < bitcoin.N:\n",
    "            break\n",
    "    #print(private_key) #密钥（十六进制,长 256 位）\n",
    "\n",
    "    # 计算地址\n",
    "    # 用 WIF 格式编码密钥\n",
    "    wif_encoded_private_key = bitcoin.encode_privkey(decoded_private_key, 'wif')\n",
    "    # 用 01 标识的压缩密钥\n",
    "    compressed_private_key = private_key + '01'\n",
    "    # 生成 WIF的压缩格式\n",
    "    wif_compressed_private_key = bitcoin.encode_privkey(\n",
    "        bitcoin.decode_privkey(compressed_private_key, 'hex'), 'wif')\n",
    "    # 计算公钥坐标 K = k * G\n",
    "    public_key = bitcoin.fast_multiply(bitcoin.G, decoded_private_key)\n",
    "    # 计算公钥\n",
    "    hex_encoded_public_key = bitcoin.encode_pubkey(public_key, 'hex')\n",
    "    # 计算压缩公钥\n",
    "    # if public_key[1] % 2 == 0:  # 两种方式均可\n",
    "    if public_key[1] & 1 == 0:\n",
    "        compressed_prefix = '02'\n",
    "    else:\n",
    "        compressed_prefix = '03'\n",
    "    # 转十六也可用 bitcoin.encode(xxx, 16)\n",
    "    hex_compressed_public_key = compressed_prefix + hex(public_key[0])[2:]\n",
    "    # print(f'压缩公钥（十六进制）{hex_compressed_public_key} '\n",
    "    #      '（02 开头代表 y 是偶数，03 开头代表 y 是奇数）')\n",
    "    # 传入公钥坐标对象/十六进制公钥值，输出同样的地址\n",
    "    address = bitcoin.pubkey_to_address(public_key)\n",
    "    # print(address) #地址（b58check）（1 开头\n",
    "    return address"
   ]
  },
  {
   "cell_type": "code",
   "execution_count": 6,
   "metadata": {},
   "outputs": [
    {
     "data": {
      "text/html": [
       "<div>\n",
       "<style scoped>\n",
       "    .dataframe tbody tr th:only-of-type {\n",
       "        vertical-align: middle;\n",
       "    }\n",
       "\n",
       "    .dataframe tbody tr th {\n",
       "        vertical-align: top;\n",
       "    }\n",
       "\n",
       "    .dataframe thead th {\n",
       "        text-align: right;\n",
       "    }\n",
       "</style>\n",
       "<table border=\"1\" class=\"dataframe\">\n",
       "  <thead>\n",
       "    <tr style=\"text-align: right;\">\n",
       "      <th></th>\n",
       "      <th>user_id</th>\n",
       "      <th>address</th>\n",
       "    </tr>\n",
       "  </thead>\n",
       "  <tbody>\n",
       "    <tr>\n",
       "      <th>0</th>\n",
       "      <td>0</td>\n",
       "      <td>1F5AanvjwqYPLwpwHddXLkFb1BgN7jDwbZ</td>\n",
       "    </tr>\n",
       "    <tr>\n",
       "      <th>1</th>\n",
       "      <td>1</td>\n",
       "      <td>12b3pjk1tqTEcvxUCUoD1ezsinoB1FYQfc</td>\n",
       "    </tr>\n",
       "    <tr>\n",
       "      <th>2</th>\n",
       "      <td>2</td>\n",
       "      <td>13PFdvbCgKaNtw3QZHPvETgU4WGvUmhQ7z</td>\n",
       "    </tr>\n",
       "    <tr>\n",
       "      <th>3</th>\n",
       "      <td>3</td>\n",
       "      <td>1K8WbJh6GubEbMACX5cn4vcbowtSzms7Tb</td>\n",
       "    </tr>\n",
       "    <tr>\n",
       "      <th>4</th>\n",
       "      <td>4</td>\n",
       "      <td>1QCCQB2a9JSjrjD5uMrhrEJk8ToNr9gb6j</td>\n",
       "    </tr>\n",
       "    <tr>\n",
       "      <th>...</th>\n",
       "      <td>...</td>\n",
       "      <td>...</td>\n",
       "    </tr>\n",
       "    <tr>\n",
       "      <th>1995</th>\n",
       "      <td>1995</td>\n",
       "      <td>13kS72F4DzeH1fm2a2ztJuDXe8UBG4Npq3</td>\n",
       "    </tr>\n",
       "    <tr>\n",
       "      <th>1996</th>\n",
       "      <td>1996</td>\n",
       "      <td>13NX1pVMTtfk6JAszu5Hrd5XzXyUhvZTZ3</td>\n",
       "    </tr>\n",
       "    <tr>\n",
       "      <th>1997</th>\n",
       "      <td>1997</td>\n",
       "      <td>1JM7nPTagafsMwGAkTYFJn94nctfkRRPvS</td>\n",
       "    </tr>\n",
       "    <tr>\n",
       "      <th>1998</th>\n",
       "      <td>1998</td>\n",
       "      <td>1NfyEbuH2rZ84oTr5myARfNfPC6z7V7BG3</td>\n",
       "    </tr>\n",
       "    <tr>\n",
       "      <th>1999</th>\n",
       "      <td>1999</td>\n",
       "      <td>1Frxzf9rw49tdg77GetktAeRuWKiLwJmsK</td>\n",
       "    </tr>\n",
       "  </tbody>\n",
       "</table>\n",
       "<p>2000 rows × 2 columns</p>\n",
       "</div>"
      ],
      "text/plain": [
       "     user_id                             address\n",
       "0          0  1F5AanvjwqYPLwpwHddXLkFb1BgN7jDwbZ\n",
       "1          1  12b3pjk1tqTEcvxUCUoD1ezsinoB1FYQfc\n",
       "2          2  13PFdvbCgKaNtw3QZHPvETgU4WGvUmhQ7z\n",
       "3          3  1K8WbJh6GubEbMACX5cn4vcbowtSzms7Tb\n",
       "4          4  1QCCQB2a9JSjrjD5uMrhrEJk8ToNr9gb6j\n",
       "...      ...                                 ...\n",
       "1995    1995  13kS72F4DzeH1fm2a2ztJuDXe8UBG4Npq3\n",
       "1996    1996  13NX1pVMTtfk6JAszu5Hrd5XzXyUhvZTZ3\n",
       "1997    1997  1JM7nPTagafsMwGAkTYFJn94nctfkRRPvS\n",
       "1998    1998  1NfyEbuH2rZ84oTr5myARfNfPC6z7V7BG3\n",
       "1999    1999  1Frxzf9rw49tdg77GetktAeRuWKiLwJmsK\n",
       "\n",
       "[2000 rows x 2 columns]"
      ]
     },
     "execution_count": 6,
     "metadata": {},
     "output_type": "execute_result"
    }
   ],
   "source": [
    "df_user=pd.DataFrame(columns=[\"user_id\", \"address\"])\n",
    "for i in range(2000):\n",
    "    df_user.loc[i]=[i, gen_addr()]\n",
    "    \n",
    "df_user"
   ]
  },
  {
   "cell_type": "code",
   "execution_count": 7,
   "metadata": {},
   "outputs": [],
   "source": [
    "df_user.to_csv(\"user.csv\", index=False)"
   ]
  },
  {
   "cell_type": "markdown",
   "metadata": {},
   "source": [
    "---"
   ]
  },
  {
   "cell_type": "code",
   "execution_count": 26,
   "metadata": {},
   "outputs": [
    {
     "data": {
      "text/plain": [
       "[{'id': '2205',\n",
       "  'name': '人人网',\n",
       "  'logo': 'http://reg007.u.qiniudn.com/app/renren.jpg',\n",
       "  'desc': '人人网，中国领先的实名制SNS社交网络。加入人人网，找到老同学，结识新朋友。',\n",
       "  'category': '社交',\n",
       "  'home': 'http://www.renren.com/'},\n",
       " {'id': '2217',\n",
       "  'name': '途牛旅游网',\n",
       "  'logo': 'http://reg007.u.qiniudn.com/app/tuniu.jpg',\n",
       "  'desc': '途牛旅游网-中国专业全面的旅游网,客户满意度94%;提供自助游(自由行),国内旅游,出境旅游,自驾游,公司旅游。低价保证,专业服务,九大出游保障,服务超百万人出游。',\n",
       "  'category': '旅行',\n",
       "  'home': 'http://www.tuniu.com/'},\n",
       " {'id': '2224',\n",
       "  'name': '酷讯旅游网',\n",
       "  'logo': 'http://reg007.u.qiniudn.com/app/kuxun.jpg',\n",
       "  'desc': '酷讯旅游网(Kuxun.cn)是中国领先的在线旅游媒体。为您提供低价可靠的国内国际机票，特价机票99元起，另提供全国20万家酒店预订查询、酒店评论，最低2折起，以及列车时刻表、50000多旅游景点的旅游攻略信息，为您的度假提供最佳的旅游线路。',\n",
       "  'category': '旅行',\n",
       "  'home': 'http://www.kuxun.cn/'},\n",
       " {'id': '2246',\n",
       "  'name': '金山词霸',\n",
       "  'logo': 'http://reg007.u.qiniudn.com/app/iciba.jpg',\n",
       "  'desc': '爱词霸英语为广大网友提供在线翻译、在线词典、英语口语、英语学习资料、汉语词典，金山词霸下载等服务，致力于为您提供优质权威的在线英语服务，是5000万英语学习者的首选。',\n",
       "  'category': '工具',\n",
       "  'home': 'http://www.iciba.com/'},\n",
       " {'id': '2247',\n",
       "  'name': '一听音乐网',\n",
       "  'logo': 'http://reg007.u.qiniudn.com/app/1ting.jpg',\n",
       "  'desc': '一听音乐网是中国最大的在线音乐网站，提供免费歌曲在线试听、下载。一听音乐网拥有庞大、完整的曲库，歌曲更新迅速，试听流畅，口碑极佳。一听音乐网，每天听一听。',\n",
       "  'category': '娱乐',\n",
       "  'home': 'http://www.1ting.com/'},\n",
       " {'id': '2250',\n",
       "  'name': '优酷',\n",
       "  'logo': 'http://reg007.u.qiniudn.com/app/youku.jpg',\n",
       "  'desc': '优酷-中国第一视频网站,提供视频播放,视频发布,视频搜索 - 视频服务平台,提供视频播放,视频发布,视频搜索,视频分享 - 优酷视频',\n",
       "  'category': '娱乐',\n",
       "  'home': 'http://www.youku.com/'},\n",
       " {'id': '2252',\n",
       "  'name': '中关村在线',\n",
       "  'logo': 'http://reg007.u.qiniudn.com/app/zol.jpg',\n",
       "  'desc': '中国领先的IT信息与商务门户, 包括新闻, 商城, 硬件, 下载, 游戏, 手机, 评测等40个大型频道，每天发布大量各类产品促销信息及文章专题，是IT行业的厂商, 经销商, IT产品, 解决方案的提供场所。',\n",
       "  'category': '资讯',\n",
       "  'home': 'http://www.zol.com.cn/'},\n",
       " {'id': '2254',\n",
       "  'name': '百合网',\n",
       "  'logo': 'http://reg007.u.qiniudn.com/app/baihe.jpg',\n",
       "  'desc': '百合网，以帮助中国人成就爱情、婚姻为己任。基于“心灵匹配”的全新婚介模式让数百万会员交友成功。近千万发布征婚信息的单身会员。其中，30岁以上真诚对待爱情、追求幸福婚姻的用户近百万；硕士、管理经理、国家机关干部等优秀会员超过20%。超准爱情心理测试，突破了网络交友“知人知面不知心”的难题，让用户能够通过百合先进的介绍系统，找到幸福指数更高的伴侣。中国妇联互联网，婚恋服务领域独家战略合作单位。',\n",
       "  'category': '社交',\n",
       "  'home': 'http://www.baihe.com/'},\n",
       " {'id': '2259',\n",
       "  'name': '爱真心',\n",
       "  'logo': 'http://reg007.u.qiniudn.com/app/izhenxin.png',\n",
       "  'desc': '爱真心：世纪佳缘旗下会员制婚恋交友网站，100%注册会员实名认证。爱真心面向中国城市白领人群，帮助用户寻找真诚、有共同追求的另一半。力求为用户打造真诚、纯粹、简单、现代的婚恋交友网站。',\n",
       "  'category': '社交',\n",
       "  'home': 'http://www.izhenxin.com/'},\n",
       " {'id': '2209',\n",
       "  'name': '淘宝网',\n",
       "  'logo': 'http://reg007.u.qiniudn.com/app/taobao.jpg',\n",
       "  'desc': '淘宝网 - 亚洲最大、最安全的网上交易平台，提供各类服饰、美容、家居、数码、话费/点卡充值… 8亿优质特价商品，同时提供担保交易(先收货后付款)、先行赔付、假一赔三、七天无理由退换货、数码免费维修等安全交易保障服务，让你全面安心享受网上购物乐趣！',\n",
       "  'category': '购物 名站',\n",
       "  'home': 'http://www.taobao.com/'}]"
      ]
     },
     "execution_count": 26,
     "metadata": {},
     "output_type": "execute_result"
    }
   ],
   "source": [
    "with open(\"./website.json\", \"r\") as f:\n",
    "    website_list=json.load(f)\n",
    "\n",
    "website_list[:10]"
   ]
  },
  {
   "cell_type": "code",
   "execution_count": 27,
   "metadata": {},
   "outputs": [
    {
     "data": {
      "text/plain": [
       "['www.renren.com',\n",
       " 'www.tuniu.com',\n",
       " 'www.kuxun.cn',\n",
       " 'www.iciba.com',\n",
       " 'www.1ting.com',\n",
       " 'www.youku.com',\n",
       " 'www.zol.com.cn',\n",
       " 'www.baihe.com',\n",
       " 'www.izhenxin.com',\n",
       " 'www.taobao.com']"
      ]
     },
     "execution_count": 27,
     "metadata": {},
     "output_type": "execute_result"
    }
   ],
   "source": [
    "pattern=re.compile(\"http://(.+?)/\")\n",
    "url_list=[re.findall(pattern, dic[\"home\"])[0] for dic in website_list]\n",
    "    \n",
    "url_list[:10]"
   ]
  },
  {
   "cell_type": "code",
   "execution_count": 4,
   "metadata": {},
   "outputs": [
    {
     "data": {
      "text/plain": [
       "'www.paidai.com'"
      ]
     },
     "execution_count": 4,
     "metadata": {},
     "output_type": "execute_result"
    },
    {
     "data": {
      "text/plain": [
       "False"
      ]
     },
     "execution_count": 4,
     "metadata": {},
     "output_type": "execute_result"
    }
   ],
   "source": [
    "url=random.choice(url_list)\n",
    "delay=ping(url)\n",
    "\n",
    "url\n",
    "delay"
   ]
  },
  {
   "cell_type": "code",
   "execution_count": 5,
   "metadata": {},
   "outputs": [],
   "source": [
    "df_user=pd.read_csv(\"./user.csv\")\n",
    "\n",
    "user_list=df_user[\"address\"].values"
   ]
  },
  {
   "cell_type": "code",
   "execution_count": 6,
   "metadata": {},
   "outputs": [],
   "source": [
    "# df_tx=pd.DataFrame(columns=[\"send_timestamp\", \"recv_timestamp\", \"latency\", \"label\", \"from\", \"to\", \"value\"])\n",
    "\n",
    "# latency=None\n",
    "# last_recv_ts=datetime.datetime(1, 1, 1, 1, 1, 1)\n",
    "# for _ in range(50000):\n",
    "#     send_ts=datetime.datetime.now()\n",
    "    \n",
    "#     while not latency:\n",
    "#         url=random.choice(url_list)\n",
    "#         latency=ping(url)\n",
    "    \n",
    "#     recv_ts=send_ts+datetime.timedelta(seconds=latency)\n",
    "    \n",
    "#     if recv_ts<last_recv_ts:\n",
    "#         label=1\n",
    "#     else:\n",
    "#         label=0\n",
    "#     last_recv_ts=recv_ts\n",
    "    \n",
    "#     from_user=random.choice(user_list)\n",
    "#     to_user=random.choice(user_list)\n",
    "#     value=random.random()*10\n",
    "    \n",
    "#     df_tx.loc[len(df_tx)]=[send_ts, recv_ts, latency, label, from_user, to_user, value]\n",
    "    \n",
    "# df_tx"
   ]
  },
  {
   "cell_type": "code",
   "execution_count": 7,
   "metadata": {},
   "outputs": [],
   "source": [
    "def gen_tx():\n",
    "    send_ts=datetime.datetime.now()\n",
    "    \n",
    "    latency=None\n",
    "    while not latency:\n",
    "        url=random.choice(url_list)\n",
    "        latency=ping(url)\n",
    "    \n",
    "    recv_ts=send_ts+datetime.timedelta(seconds=latency)\n",
    "    \n",
    "    from_user=random.choice(user_list)\n",
    "    to_user=random.choice(user_list)\n",
    "    value=random.random()*10\n",
    "    \n",
    "    label=0\n",
    "    return [send_ts, recv_ts, latency, label, from_user, to_user, value]"
   ]
  },
  {
   "cell_type": "code",
   "execution_count": 15,
   "metadata": {},
   "outputs": [
    {
     "data": {
      "text/plain": [
       "200"
      ]
     },
     "execution_count": 15,
     "metadata": {},
     "output_type": "execute_result"
    },
    {
     "data": {
      "text/plain": [
       "[[datetime.datetime(2022, 10, 11, 16, 27, 28, 809307),\n",
       "  datetime.datetime(2022, 10, 11, 16, 27, 28, 840556),\n",
       "  0.031249046325683594,\n",
       "  0,\n",
       "  '1A8H4q6CXZmoxPaZ7GfTBY1GhKwuZtUp9o',\n",
       "  '13kS72F4DzeH1fm2a2ztJuDXe8UBG4Npq3',\n",
       "  3.0682624454924676],\n",
       " [datetime.datetime(2022, 10, 11, 16, 27, 28, 814459),\n",
       "  datetime.datetime(2022, 10, 11, 16, 27, 28, 823095),\n",
       "  0.008635997772216797,\n",
       "  0,\n",
       "  '14Jf3zXzGVMmhMrFJ1zjw75pwtvpAeiWgH',\n",
       "  '1FYYQsiyFTQgD1qdda4SUEysPPuzqSGoZn',\n",
       "  3.4326102316053095],\n",
       " [datetime.datetime(2022, 10, 11, 16, 27, 28, 814585),\n",
       "  datetime.datetime(2022, 10, 11, 16, 27, 28, 823377),\n",
       "  0.00879216194152832,\n",
       "  0,\n",
       "  '15CD7rWw1ygMGUPxh8JJY6RkEwrhzpZs2e',\n",
       "  '1AUXQg9G54XVtv1nZRo3Jz726gVkUFQKxW',\n",
       "  9.103579693156497],\n",
       " [datetime.datetime(2022, 10, 11, 16, 27, 28, 814710),\n",
       "  datetime.datetime(2022, 10, 11, 16, 27, 28, 820157),\n",
       "  0.005446910858154297,\n",
       "  0,\n",
       "  '17vuyw1UJrSaowKGS6iPcKv4YDhj3S9rWG',\n",
       "  '1HkYwEK4s8tAxs162M8VwBhAj7QsWb31fB',\n",
       "  8.614325514475862],\n",
       " [datetime.datetime(2022, 10, 11, 16, 27, 28, 814747),\n",
       "  datetime.datetime(2022, 10, 11, 16, 27, 28, 857022),\n",
       "  0.04227495193481445,\n",
       "  0,\n",
       "  '11525KqSXHL34JTh7VeH2ENHG7eDNc66br',\n",
       "  '1A3ZeTn9z82Hi8LvCFaDCfXGFLgsWqSkbA',\n",
       "  1.0003835409045314]]"
      ]
     },
     "execution_count": 15,
     "metadata": {},
     "output_type": "execute_result"
    }
   ],
   "source": [
    "core=8\n",
    "pool=mp.get_context(\"fork\").Pool(core)\n",
    "tx_list=[]\n",
    "for _ in range(200):\n",
    "    res=pool.apply_async(gen_tx)\n",
    "    tx_list.append(res)\n",
    "    \n",
    "pool.close()\n",
    "pool.join()\n",
    "\n",
    "tx_list=[res.get() for res in tx_list]\n",
    "len(tx_list)\n",
    "tx_list[:5]"
   ]
  },
  {
   "cell_type": "code",
   "execution_count": 28,
   "metadata": {},
   "outputs": [
    {
     "data": {
      "text/plain": [
       "[[datetime.datetime(2022, 10, 11, 16, 27, 28, 814710),\n",
       "  datetime.datetime(2022, 10, 11, 16, 27, 28, 820157),\n",
       "  0.005446910858154297,\n",
       "  0,\n",
       "  '17vuyw1UJrSaowKGS6iPcKv4YDhj3S9rWG',\n",
       "  '1HkYwEK4s8tAxs162M8VwBhAj7QsWb31fB',\n",
       "  8.614325514475862],\n",
       " [datetime.datetime(2022, 10, 11, 16, 27, 28, 815063),\n",
       "  datetime.datetime(2022, 10, 11, 16, 27, 28, 822302),\n",
       "  0.007238864898681641,\n",
       "  0,\n",
       "  '1F5N4vdyksZcKTVPW9pT1yxBm7wr7XiTiZ',\n",
       "  '19H3uwDMXaoagXgVphKLAcC81YeJwG2vC8',\n",
       "  1.3238423776818131],\n",
       " [datetime.datetime(2022, 10, 11, 16, 27, 28, 814892),\n",
       "  datetime.datetime(2022, 10, 11, 16, 27, 28, 822632),\n",
       "  0.0077397823333740234,\n",
       "  1,\n",
       "  '1No2aNkrwWPGmB1jAdS3LhFT8VSgNQdgWb',\n",
       "  '1KVFmMaUTzZuR6PB87mR1jVKFfq2CzFy9D',\n",
       "  5.284916684757856],\n",
       " [datetime.datetime(2022, 10, 11, 16, 27, 28, 814459),\n",
       "  datetime.datetime(2022, 10, 11, 16, 27, 28, 823095),\n",
       "  0.008635997772216797,\n",
       "  1,\n",
       "  '14Jf3zXzGVMmhMrFJ1zjw75pwtvpAeiWgH',\n",
       "  '1FYYQsiyFTQgD1qdda4SUEysPPuzqSGoZn',\n",
       "  3.4326102316053095],\n",
       " [datetime.datetime(2022, 10, 11, 16, 27, 28, 814585),\n",
       "  datetime.datetime(2022, 10, 11, 16, 27, 28, 823377),\n",
       "  0.00879216194152832,\n",
       "  0,\n",
       "  '15CD7rWw1ygMGUPxh8JJY6RkEwrhzpZs2e',\n",
       "  '1AUXQg9G54XVtv1nZRo3Jz726gVkUFQKxW',\n",
       "  9.103579693156497]]"
      ]
     },
     "execution_count": 28,
     "metadata": {},
     "output_type": "execute_result"
    }
   ],
   "source": [
    "tx_list_sorted=sorted(tx_list, key=lambda tx: tx[1])\n",
    "\n",
    "tx_list_sorted[:5]"
   ]
  },
  {
   "cell_type": "code",
   "execution_count": 29,
   "metadata": {},
   "outputs": [
    {
     "data": {
      "text/plain": [
       "[[datetime.datetime(2022, 10, 11, 16, 27, 28, 814710),\n",
       "  datetime.datetime(2022, 10, 11, 16, 27, 28, 820157),\n",
       "  0.005446910858154297,\n",
       "  0,\n",
       "  '17vuyw1UJrSaowKGS6iPcKv4YDhj3S9rWG',\n",
       "  '1HkYwEK4s8tAxs162M8VwBhAj7QsWb31fB',\n",
       "  8.614325514475862],\n",
       " [datetime.datetime(2022, 10, 11, 16, 27, 28, 815063),\n",
       "  datetime.datetime(2022, 10, 11, 16, 27, 28, 822302),\n",
       "  0.007238864898681641,\n",
       "  0,\n",
       "  '1F5N4vdyksZcKTVPW9pT1yxBm7wr7XiTiZ',\n",
       "  '19H3uwDMXaoagXgVphKLAcC81YeJwG2vC8',\n",
       "  1.3238423776818131],\n",
       " [datetime.datetime(2022, 10, 11, 16, 27, 28, 814892),\n",
       "  datetime.datetime(2022, 10, 11, 16, 27, 28, 822632),\n",
       "  0.0077397823333740234,\n",
       "  1,\n",
       "  '1No2aNkrwWPGmB1jAdS3LhFT8VSgNQdgWb',\n",
       "  '1KVFmMaUTzZuR6PB87mR1jVKFfq2CzFy9D',\n",
       "  5.284916684757856],\n",
       " [datetime.datetime(2022, 10, 11, 16, 27, 28, 814459),\n",
       "  datetime.datetime(2022, 10, 11, 16, 27, 28, 823095),\n",
       "  0.008635997772216797,\n",
       "  1,\n",
       "  '14Jf3zXzGVMmhMrFJ1zjw75pwtvpAeiWgH',\n",
       "  '1FYYQsiyFTQgD1qdda4SUEysPPuzqSGoZn',\n",
       "  3.4326102316053095],\n",
       " [datetime.datetime(2022, 10, 11, 16, 27, 28, 814585),\n",
       "  datetime.datetime(2022, 10, 11, 16, 27, 28, 823377),\n",
       "  0.00879216194152832,\n",
       "  0,\n",
       "  '15CD7rWw1ygMGUPxh8JJY6RkEwrhzpZs2e',\n",
       "  '1AUXQg9G54XVtv1nZRo3Jz726gVkUFQKxW',\n",
       "  9.103579693156497]]"
      ]
     },
     "execution_count": 29,
     "metadata": {},
     "output_type": "execute_result"
    }
   ],
   "source": [
    "for i in range(1, len(tx_list_sorted)):\n",
    "    if tx_list_sorted[i][0]<tx_list_sorted[i-1][0]:\n",
    "        tx_list_sorted[i][3]=1\n",
    "        \n",
    "tx_list_sorted[:5]"
   ]
  },
  {
   "cell_type": "code",
   "execution_count": 18,
   "metadata": {},
   "outputs": [
    {
     "data": {
      "text/html": [
       "<div>\n",
       "<style scoped>\n",
       "    .dataframe tbody tr th:only-of-type {\n",
       "        vertical-align: middle;\n",
       "    }\n",
       "\n",
       "    .dataframe tbody tr th {\n",
       "        vertical-align: top;\n",
       "    }\n",
       "\n",
       "    .dataframe thead th {\n",
       "        text-align: right;\n",
       "    }\n",
       "</style>\n",
       "<table border=\"1\" class=\"dataframe\">\n",
       "  <thead>\n",
       "    <tr style=\"text-align: right;\">\n",
       "      <th></th>\n",
       "      <th>send_timestamp</th>\n",
       "      <th>recv_timestamp</th>\n",
       "      <th>latency</th>\n",
       "      <th>label</th>\n",
       "      <th>from</th>\n",
       "      <th>to</th>\n",
       "      <th>value</th>\n",
       "    </tr>\n",
       "  </thead>\n",
       "  <tbody>\n",
       "    <tr>\n",
       "      <th>0</th>\n",
       "      <td>2022-10-11 16:27:28.814710</td>\n",
       "      <td>2022-10-11 16:27:28.820157</td>\n",
       "      <td>0.005447</td>\n",
       "      <td>0</td>\n",
       "      <td>17vuyw1UJrSaowKGS6iPcKv4YDhj3S9rWG</td>\n",
       "      <td>1HkYwEK4s8tAxs162M8VwBhAj7QsWb31fB</td>\n",
       "      <td>8.614326</td>\n",
       "    </tr>\n",
       "    <tr>\n",
       "      <th>1</th>\n",
       "      <td>2022-10-11 16:27:28.815063</td>\n",
       "      <td>2022-10-11 16:27:28.822302</td>\n",
       "      <td>0.007239</td>\n",
       "      <td>0</td>\n",
       "      <td>1F5N4vdyksZcKTVPW9pT1yxBm7wr7XiTiZ</td>\n",
       "      <td>19H3uwDMXaoagXgVphKLAcC81YeJwG2vC8</td>\n",
       "      <td>1.323842</td>\n",
       "    </tr>\n",
       "    <tr>\n",
       "      <th>2</th>\n",
       "      <td>2022-10-11 16:27:28.814892</td>\n",
       "      <td>2022-10-11 16:27:28.822632</td>\n",
       "      <td>0.007740</td>\n",
       "      <td>1</td>\n",
       "      <td>1No2aNkrwWPGmB1jAdS3LhFT8VSgNQdgWb</td>\n",
       "      <td>1KVFmMaUTzZuR6PB87mR1jVKFfq2CzFy9D</td>\n",
       "      <td>5.284917</td>\n",
       "    </tr>\n",
       "    <tr>\n",
       "      <th>3</th>\n",
       "      <td>2022-10-11 16:27:28.814459</td>\n",
       "      <td>2022-10-11 16:27:28.823095</td>\n",
       "      <td>0.008636</td>\n",
       "      <td>1</td>\n",
       "      <td>14Jf3zXzGVMmhMrFJ1zjw75pwtvpAeiWgH</td>\n",
       "      <td>1FYYQsiyFTQgD1qdda4SUEysPPuzqSGoZn</td>\n",
       "      <td>3.432610</td>\n",
       "    </tr>\n",
       "    <tr>\n",
       "      <th>4</th>\n",
       "      <td>2022-10-11 16:27:28.814585</td>\n",
       "      <td>2022-10-11 16:27:28.823377</td>\n",
       "      <td>0.008792</td>\n",
       "      <td>0</td>\n",
       "      <td>15CD7rWw1ygMGUPxh8JJY6RkEwrhzpZs2e</td>\n",
       "      <td>1AUXQg9G54XVtv1nZRo3Jz726gVkUFQKxW</td>\n",
       "      <td>9.103580</td>\n",
       "    </tr>\n",
       "    <tr>\n",
       "      <th>...</th>\n",
       "      <td>...</td>\n",
       "      <td>...</td>\n",
       "      <td>...</td>\n",
       "      <td>...</td>\n",
       "      <td>...</td>\n",
       "      <td>...</td>\n",
       "      <td>...</td>\n",
       "    </tr>\n",
       "    <tr>\n",
       "      <th>195</th>\n",
       "      <td>2022-10-11 16:27:41.516080</td>\n",
       "      <td>2022-10-11 16:27:41.560769</td>\n",
       "      <td>0.044689</td>\n",
       "      <td>0</td>\n",
       "      <td>1F4C17aTtxydvkFTqBZcxp1ioWC6Y6JzC9</td>\n",
       "      <td>1Bw1SzuSTzJrBkGKoQnr2GWjf9CkrqEMGk</td>\n",
       "      <td>3.426720</td>\n",
       "    </tr>\n",
       "    <tr>\n",
       "      <th>196</th>\n",
       "      <td>2022-10-11 16:27:41.531272</td>\n",
       "      <td>2022-10-11 16:27:41.572383</td>\n",
       "      <td>0.041111</td>\n",
       "      <td>0</td>\n",
       "      <td>1NmK67kXsYtDAg4WkpDqTCFg4ZfarJCChN</td>\n",
       "      <td>1PoQ8b7mKk6ytXZAKHLrQMUL2ngAep5GLX</td>\n",
       "      <td>3.771443</td>\n",
       "    </tr>\n",
       "    <tr>\n",
       "      <th>197</th>\n",
       "      <td>2022-10-11 16:27:41.575261</td>\n",
       "      <td>2022-10-11 16:27:41.627808</td>\n",
       "      <td>0.052547</td>\n",
       "      <td>0</td>\n",
       "      <td>19Z5GCRG8RRdX6etCsQg5YWikrYPyEDpFu</td>\n",
       "      <td>16oYWTTQKmes6iUvbJB4yrexgFGBkQjYvs</td>\n",
       "      <td>2.996111</td>\n",
       "    </tr>\n",
       "    <tr>\n",
       "      <th>198</th>\n",
       "      <td>2022-10-11 16:27:41.631741</td>\n",
       "      <td>2022-10-11 16:27:41.689441</td>\n",
       "      <td>0.057700</td>\n",
       "      <td>0</td>\n",
       "      <td>1HxJQtM1t1RY38K8ysoCmZzgDLjJWwcHQn</td>\n",
       "      <td>1J8NYLw7T5w9bbzD7JmC8XahVS5PJZU3p7</td>\n",
       "      <td>2.927839</td>\n",
       "    </tr>\n",
       "    <tr>\n",
       "      <th>199</th>\n",
       "      <td>2022-10-11 16:27:41.693280</td>\n",
       "      <td>2022-10-11 16:27:41.706788</td>\n",
       "      <td>0.013508</td>\n",
       "      <td>0</td>\n",
       "      <td>1PKDXdSdnbLiq6VDqRqXDeatKeZSdDFj4e</td>\n",
       "      <td>15QjxWaAiDUQprwGA7no6XEyx9aznUemoT</td>\n",
       "      <td>0.227371</td>\n",
       "    </tr>\n",
       "  </tbody>\n",
       "</table>\n",
       "<p>200 rows × 7 columns</p>\n",
       "</div>"
      ],
      "text/plain": [
       "                send_timestamp             recv_timestamp   latency label  \\\n",
       "0   2022-10-11 16:27:28.814710 2022-10-11 16:27:28.820157  0.005447     0   \n",
       "1   2022-10-11 16:27:28.815063 2022-10-11 16:27:28.822302  0.007239     0   \n",
       "2   2022-10-11 16:27:28.814892 2022-10-11 16:27:28.822632  0.007740     1   \n",
       "3   2022-10-11 16:27:28.814459 2022-10-11 16:27:28.823095  0.008636     1   \n",
       "4   2022-10-11 16:27:28.814585 2022-10-11 16:27:28.823377  0.008792     0   \n",
       "..                         ...                        ...       ...   ...   \n",
       "195 2022-10-11 16:27:41.516080 2022-10-11 16:27:41.560769  0.044689     0   \n",
       "196 2022-10-11 16:27:41.531272 2022-10-11 16:27:41.572383  0.041111     0   \n",
       "197 2022-10-11 16:27:41.575261 2022-10-11 16:27:41.627808  0.052547     0   \n",
       "198 2022-10-11 16:27:41.631741 2022-10-11 16:27:41.689441  0.057700     0   \n",
       "199 2022-10-11 16:27:41.693280 2022-10-11 16:27:41.706788  0.013508     0   \n",
       "\n",
       "                                   from                                  to  \\\n",
       "0    17vuyw1UJrSaowKGS6iPcKv4YDhj3S9rWG  1HkYwEK4s8tAxs162M8VwBhAj7QsWb31fB   \n",
       "1    1F5N4vdyksZcKTVPW9pT1yxBm7wr7XiTiZ  19H3uwDMXaoagXgVphKLAcC81YeJwG2vC8   \n",
       "2    1No2aNkrwWPGmB1jAdS3LhFT8VSgNQdgWb  1KVFmMaUTzZuR6PB87mR1jVKFfq2CzFy9D   \n",
       "3    14Jf3zXzGVMmhMrFJ1zjw75pwtvpAeiWgH  1FYYQsiyFTQgD1qdda4SUEysPPuzqSGoZn   \n",
       "4    15CD7rWw1ygMGUPxh8JJY6RkEwrhzpZs2e  1AUXQg9G54XVtv1nZRo3Jz726gVkUFQKxW   \n",
       "..                                  ...                                 ...   \n",
       "195  1F4C17aTtxydvkFTqBZcxp1ioWC6Y6JzC9  1Bw1SzuSTzJrBkGKoQnr2GWjf9CkrqEMGk   \n",
       "196  1NmK67kXsYtDAg4WkpDqTCFg4ZfarJCChN  1PoQ8b7mKk6ytXZAKHLrQMUL2ngAep5GLX   \n",
       "197  19Z5GCRG8RRdX6etCsQg5YWikrYPyEDpFu  16oYWTTQKmes6iUvbJB4yrexgFGBkQjYvs   \n",
       "198  1HxJQtM1t1RY38K8ysoCmZzgDLjJWwcHQn  1J8NYLw7T5w9bbzD7JmC8XahVS5PJZU3p7   \n",
       "199  1PKDXdSdnbLiq6VDqRqXDeatKeZSdDFj4e  15QjxWaAiDUQprwGA7no6XEyx9aznUemoT   \n",
       "\n",
       "        value  \n",
       "0    8.614326  \n",
       "1    1.323842  \n",
       "2    5.284917  \n",
       "3    3.432610  \n",
       "4    9.103580  \n",
       "..        ...  \n",
       "195  3.426720  \n",
       "196  3.771443  \n",
       "197  2.996111  \n",
       "198  2.927839  \n",
       "199  0.227371  \n",
       "\n",
       "[200 rows x 7 columns]"
      ]
     },
     "execution_count": 18,
     "metadata": {},
     "output_type": "execute_result"
    }
   ],
   "source": [
    "df_tx=pd.DataFrame(columns=[\"send_timestamp\", \"recv_timestamp\", \"latency\", \"label\", \"from\", \"to\", \"value\"])\n",
    "\n",
    "for tx in tx_list_sorted:\n",
    "    df_tx.loc[len(df_tx)]=tx\n",
    "    \n",
    "df_tx"
   ]
  },
  {
   "cell_type": "code",
   "execution_count": 22,
   "metadata": {},
   "outputs": [
    {
     "data": {
      "text/plain": [
       "42"
      ]
     },
     "execution_count": 22,
     "metadata": {},
     "output_type": "execute_result"
    }
   ],
   "source": [
    "sum(df_tx[\"label\"]==1)"
   ]
  },
  {
   "cell_type": "code",
   "execution_count": 25,
   "metadata": {},
   "outputs": [],
   "source": [
    "df_tx.to_csv(f\"./tx_{len(df_tx)}.csv\", index=False)"
   ]
  }
 ],
 "metadata": {
  "kernelspec": {
   "display_name": "Python 3.8.12 ('py38')",
   "language": "python",
   "name": "python3"
  },
  "language_info": {
   "codemirror_mode": {
    "name": "ipython",
    "version": 3
   },
   "file_extension": ".py",
   "mimetype": "text/x-python",
   "name": "python",
   "nbconvert_exporter": "python",
   "pygments_lexer": "ipython3",
   "version": "3.8.12"
  },
  "orig_nbformat": 4,
  "vscode": {
   "interpreter": {
    "hash": "e340a0a01ab186b377b016c01aa7d5d1230eddf285ffed81230a024c78a4da64"
   }
  }
 },
 "nbformat": 4,
 "nbformat_minor": 2
}
