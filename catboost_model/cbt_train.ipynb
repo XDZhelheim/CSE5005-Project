{
 "cells": [
  {
   "cell_type": "code",
   "execution_count": 1,
   "metadata": {},
   "outputs": [
    {
     "data": {
      "text/plain": [
       "'/Users/dongzheng/Codes/PythonWorkspace/CSE5005-Project/catboost_model'"
      ]
     },
     "execution_count": 1,
     "metadata": {},
     "output_type": "execute_result"
    }
   ],
   "source": [
    "import numpy as np\n",
    "import pandas as pd\n",
    "import catboost as cbt\n",
    "from sklearn.metrics import accuracy_score\n",
    "\n",
    "from IPython.core.interactiveshell import InteractiveShell\n",
    "\n",
    "InteractiveShell.ast_node_interactivity = \"all\"\n",
    "\n",
    "%pwd"
   ]
  },
  {
   "cell_type": "code",
   "execution_count": 2,
   "metadata": {},
   "outputs": [
    {
     "data": {
      "text/plain": [
       "(99998, 5)"
      ]
     },
     "execution_count": 2,
     "metadata": {},
     "output_type": "execute_result"
    },
    {
     "data": {
      "text/plain": [
       "(99998,)"
      ]
     },
     "execution_count": 2,
     "metadata": {},
     "output_type": "execute_result"
    }
   ],
   "source": [
    "def gen_xy(sequence):\n",
    "    \"\"\"\n",
    "    Returns\n",
    "    ---\n",
    "    x: (num_samples, 5)\n",
    "    y: (num_samples,) 1-d vec for labels\n",
    "    \"\"\"\n",
    "\n",
    "    x, y = [], []\n",
    "    for i in range(len(sequence) - 2):\n",
    "        x.append(sequence[i : i + 2])\n",
    "        y.append(sequence[i + 1])\n",
    "\n",
    "    x = np.array(x)\n",
    "    x = x.reshape(x.shape[0], x.shape[1] * x.shape[2])\n",
    "    x = x[:, :5]\n",
    "    y = np.array(y)\n",
    "\n",
    "    if len(y.shape) > 1:\n",
    "        y = y[:, -1]\n",
    "\n",
    "    return x, y\n",
    "\n",
    "sequence = pd.read_pickle(\"../data/data_100000_distr.pkl\")[\n",
    "    [\"from_user_id\", \"to_user_id\", \"label\"]\n",
    "].values\n",
    "\n",
    "x, y=gen_xy(sequence)\n",
    "\n",
    "x.shape\n",
    "y.shape"
   ]
  },
  {
   "cell_type": "code",
   "execution_count": 3,
   "metadata": {},
   "outputs": [
    {
     "name": "stdout",
     "output_type": "stream",
     "text": [
      "Trainset:\tx-(69998, 5)\ty-(69998,)\n",
      "Valset:  \tx-(10002, 5)  \ty-(10002,)\n",
      "Testset:\tx-(19998, 5)\ty-(19998,)\n"
     ]
    }
   ],
   "source": [
    "train_size=0.7\n",
    "val_size=0.1\n",
    "cat_feat_index=[0, 1, 2, 3, 4]\n",
    "\n",
    "split1 = int(len(x) * train_size)\n",
    "split2 = int(len(sequence) * (train_size + val_size))\n",
    "\n",
    "x_train, y_train = x[:split1], y[:split1]\n",
    "x_val, y_val = x[split1:split2], y[split1:split2]\n",
    "x_test, y_test = x[split2:], y[split2:]\n",
    "\n",
    "print(f\"Trainset:\\tx-{x_train.shape}\\ty-{y_train.shape}\")\n",
    "print(f\"Valset:  \\tx-{x_val.shape}  \\ty-{y_val.shape}\")\n",
    "print(f\"Testset:\\tx-{x_test.shape}\\ty-{y_test.shape}\")\n",
    "\n",
    "trainset=cbt.Pool(data=x_train, label=y_train, cat_features=cat_feat_index)\n",
    "valset=cbt.Pool(data=x_val, label=y_val, cat_features=cat_feat_index)\n",
    "testset=cbt.Pool(data=x_test, label=y_test, cat_features=cat_feat_index)"
   ]
  },
  {
   "cell_type": "code",
   "execution_count": 70,
   "metadata": {},
   "outputs": [],
   "source": [
    "cbt_params = {\n",
    "    \"iterations\": 5000,\n",
    "    \"early_stopping_rounds\": 100,\n",
    "    \"learning_rate\": 0.05,\n",
    "    \"random_seed\": 510,\n",
    "    \"loss_function\": \"CrossEntropy\",\n",
    "    \n",
    "    \"od_type\": \"Iter\",\n",
    "    \n",
    "    \"max_depth\": 6,\n",
    "    # \"l2_leaf_reg\": 100,\n",
    "    # \"subsample\": 0.8,\n",
    "    \n",
    "    # \"min_data_in_leaf\": 10,\n",
    "    # \"leaf_estimation_method\": \"Exact\",\n",
    "    # \"grow_policy\": \"Depthwise\",\n",
    "    # \"bootstrap_type\": \"Poisson\",\n",
    "    # \"max_leaves\": 30,\n",
    "    \n",
    "    # \"thread_count\": 24,\n",
    "    \"verbose\": 100,\n",
    "    # \"task_type\": \"GPU\"\n",
    "}"
   ]
  },
  {
   "cell_type": "code",
   "execution_count": 71,
   "metadata": {},
   "outputs": [
    {
     "name": "stdout",
     "output_type": "stream",
     "text": [
      "0:\tlearn: 0.6748238\ttest: 0.6714616\tbest: 0.6714616 (0)\ttotal: 21.5ms\tremaining: 1m 47s\n",
      "100:\tlearn: 0.4657882\ttest: 0.4145051\tbest: 0.4145051 (100)\ttotal: 1.71s\tremaining: 1m 22s\n",
      "200:\tlearn: 0.4578758\ttest: 0.4081163\tbest: 0.4081163 (200)\ttotal: 3.37s\tremaining: 1m 20s\n",
      "300:\tlearn: 0.4534900\ttest: 0.4062383\tbest: 0.4062340 (299)\ttotal: 4.92s\tremaining: 1m 16s\n",
      "400:\tlearn: 0.4500548\ttest: 0.4054174\tbest: 0.4054112 (396)\ttotal: 6.44s\tremaining: 1m 13s\n",
      "500:\tlearn: 0.4470739\ttest: 0.4048188\tbest: 0.4048188 (500)\ttotal: 7.95s\tremaining: 1m 11s\n",
      "600:\tlearn: 0.4442287\ttest: 0.4044686\tbest: 0.4044618 (593)\ttotal: 9.45s\tremaining: 1m 9s\n",
      "700:\tlearn: 0.4417441\ttest: 0.4042827\tbest: 0.4042724 (693)\ttotal: 11s\tremaining: 1m 7s\n",
      "800:\tlearn: 0.4393144\ttest: 0.4041263\tbest: 0.4040939 (785)\ttotal: 12.4s\tremaining: 1m 5s\n",
      "900:\tlearn: 0.4371743\ttest: 0.4041350\tbest: 0.4040672 (876)\ttotal: 13.9s\tremaining: 1m 3s\n",
      "1000:\tlearn: 0.4350787\ttest: 0.4042275\tbest: 0.4040469 (930)\ttotal: 15.4s\tremaining: 1m 1s\n",
      "Stopped by overfitting detector  (100 iterations wait)\n",
      "\n",
      "bestTest = 0.4040468626\n",
      "bestIteration = 930\n",
      "\n",
      "Shrink model to first 931 iterations.\n"
     ]
    },
    {
     "data": {
      "text/plain": [
       "<catboost.core.CatBoostClassifier at 0x146f6fca0>"
      ]
     },
     "execution_count": 71,
     "metadata": {},
     "output_type": "execute_result"
    }
   ],
   "source": [
    "model=cbt.CatBoostClassifier(**cbt_params)\n",
    "\n",
    "model.fit(trainset, eval_set=valset)"
   ]
  },
  {
   "cell_type": "code",
   "execution_count": 72,
   "metadata": {},
   "outputs": [
    {
     "data": {
      "text/plain": [
       "0.8858538815394725"
      ]
     },
     "execution_count": 72,
     "metadata": {},
     "output_type": "execute_result"
    },
    {
     "data": {
      "text/plain": [
       "0.8095380923815237"
      ]
     },
     "execution_count": 72,
     "metadata": {},
     "output_type": "execute_result"
    },
    {
     "data": {
      "text/plain": [
       "0.7532253225322533"
      ]
     },
     "execution_count": 72,
     "metadata": {},
     "output_type": "execute_result"
    }
   ],
   "source": [
    "y_train_pred=model.predict(x_train, verbose=True)\n",
    "y_val_pred=model.predict(x_val, verbose=True)\n",
    "y_pred=model.predict(x_test, verbose=True)\n",
    "\n",
    "accuracy_score(y_train, y_train_pred)\n",
    "accuracy_score(y_val, y_val_pred)\n",
    "accuracy_score(y_test, y_pred)"
   ]
  },
  {
   "cell_type": "code",
   "execution_count": 1,
   "metadata": {},
   "outputs": [
    {
     "name": "stdout",
     "output_type": "stream",
     "text": [
      "Trainset:\tx-(69838, 5)\ty-(69838,)\n",
      "Valset:  \tx-(9978, 5)  \ty-(9978,)\n",
      "Testset:\tx-(19953, 5)\ty-(19953,)\n",
      "0:\tlearn: 0.6715203\ttest: 0.6716892\tbest: 0.6716892 (0)\ttotal: 69.9ms\tremaining: 5m 49s\n",
      "100:\tlearn: 0.4213970\ttest: 0.4114342\tbest: 0.4114342 (100)\ttotal: 1.76s\tremaining: 1m 25s\n",
      "200:\tlearn: 0.4181381\ttest: 0.4098342\tbest: 0.4098342 (200)\ttotal: 3.42s\tremaining: 1m 21s\n",
      "300:\tlearn: 0.4157225\ttest: 0.4094321\tbest: 0.4094306 (286)\ttotal: 5.1s\tremaining: 1m 19s\n",
      "400:\tlearn: 0.4136084\ttest: 0.4093188\tbest: 0.4093088 (390)\ttotal: 6.8s\tremaining: 1m 18s\n",
      "500:\tlearn: 0.4114918\ttest: 0.4095390\tbest: 0.4092666 (420)\ttotal: 8.39s\tremaining: 1m 15s\n",
      "Stopped by overfitting detector  (100 iterations wait)\n",
      "\n",
      "bestTest = 0.4092666107\n",
      "bestIteration = 420\n",
      "\n",
      "Shrink model to first 421 iterations.\n",
      "0.8285317448953292\n",
      "0.8203046702746041\n",
      "0.8086002104946625\n"
     ]
    }
   ],
   "source": [
    "%run cbt_train.py"
   ]
  }
 ],
 "metadata": {
  "kernelspec": {
   "display_name": "torch1.12",
   "language": "python",
   "name": "python3"
  },
  "language_info": {
   "codemirror_mode": {
    "name": "ipython",
    "version": 3
   },
   "file_extension": ".py",
   "mimetype": "text/x-python",
   "name": "python",
   "nbconvert_exporter": "python",
   "pygments_lexer": "ipython3",
   "version": "3.8.15 (default, Nov 24 2022, 14:38:14) [MSC v.1916 64 bit (AMD64)]"
  },
  "orig_nbformat": 4,
  "vscode": {
   "interpreter": {
    "hash": "a6418133bade46933378562b9c4edca5abd2ee756fb90d7ff79aecdfe8ac5a3a"
   }
  }
 },
 "nbformat": 4,
 "nbformat_minor": 2
}
