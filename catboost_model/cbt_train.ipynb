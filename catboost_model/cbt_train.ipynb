{
 "cells": [
  {
   "cell_type": "code",
   "execution_count": 1,
   "metadata": {},
   "outputs": [
    {
     "data": {
      "text/plain": [
       "'/Users/dongzheng/Codes/PythonWorkspace/CSE5005-Project/catboost_model'"
      ]
     },
     "execution_count": 1,
     "metadata": {},
     "output_type": "execute_result"
    }
   ],
   "source": [
    "import numpy as np\n",
    "import pandas as pd\n",
    "import catboost as cbt\n",
    "\n",
    "from IPython.core.interactiveshell import InteractiveShell\n",
    "\n",
    "InteractiveShell.ast_node_interactivity = \"all\"\n",
    "\n",
    "%pwd"
   ]
  },
  {
   "cell_type": "code",
   "execution_count": 4,
   "metadata": {},
   "outputs": [
    {
     "data": {
      "text/plain": [
       "(99998, 5)"
      ]
     },
     "execution_count": 4,
     "metadata": {},
     "output_type": "execute_result"
    },
    {
     "data": {
      "text/plain": [
       "(99998,)"
      ]
     },
     "execution_count": 4,
     "metadata": {},
     "output_type": "execute_result"
    }
   ],
   "source": [
    "def gen_xy(sequence):\n",
    "    \"\"\"\n",
    "    Returns\n",
    "    ---\n",
    "    x: (num_samples, 5)\n",
    "    y: (num_samples,) 1-d vec for labels\n",
    "    \"\"\"\n",
    "\n",
    "    x, y = [], []\n",
    "    for i in range(len(sequence) - 2):\n",
    "        x.append(sequence[i : i + 2])\n",
    "        y.append(sequence[i + 1])\n",
    "\n",
    "    x = np.array(x)\n",
    "    x = x.reshape(x.shape[0], x.shape[1] * x.shape[2])\n",
    "    x = x[:, :5]\n",
    "    y = np.array(y)\n",
    "\n",
    "    if len(y.shape) > 1:\n",
    "        y = y[:, -1]\n",
    "\n",
    "    return x, y\n",
    "\n",
    "sequence = pd.read_pickle(\"../data/data_100000_distr.pkl\")[\n",
    "    [\"from_user_id\", \"to_user_id\", \"label\"]\n",
    "].values\n",
    "\n",
    "x, y=gen_xy(sequence)\n",
    "\n",
    "x.shape\n",
    "y.shape"
   ]
  },
  {
   "cell_type": "code",
   "execution_count": 6,
   "metadata": {},
   "outputs": [
    {
     "name": "stdout",
     "output_type": "stream",
     "text": [
      "Trainset:\tx-(69998, 5)\ty-(69998,)\n",
      "Valset:  \tx-(10002, 5)  \ty-(10002,)\n",
      "Testset:\tx-(19998, 5)\ty-(19998,)\n"
     ]
    }
   ],
   "source": [
    "train_size=0.7\n",
    "val_size=0.1\n",
    "cat_feat_index=[0, 1, 2, 3, 4]\n",
    "\n",
    "split1 = int(len(x) * train_size)\n",
    "split2 = int(len(sequence) * (train_size + val_size))\n",
    "\n",
    "x_train, y_train = x[:split1], y[:split1]\n",
    "x_val, y_val = x[split1:split2], y[split1:split2]\n",
    "x_test, y_test = x[split2:], y[split2:]\n",
    "\n",
    "print(f\"Trainset:\\tx-{x_train.shape}\\ty-{y_train.shape}\")\n",
    "print(f\"Valset:  \\tx-{x_val.shape}  \\ty-{y_val.shape}\")\n",
    "print(f\"Testset:\\tx-{x_test.shape}\\ty-{y_test.shape}\")\n",
    "\n",
    "trainset=cbt.Pool(data=x_train, label=y_train, cat_features=cat_feat_index)\n",
    "valset=cbt.Pool(data=x_val, label=y_val, cat_features=cat_feat_index)\n",
    "testset=cbt.Pool(data=x_test, label=y_test, cat_features=cat_feat_index)"
   ]
  },
  {
   "cell_type": "code",
   "execution_count": 10,
   "metadata": {},
   "outputs": [
    {
     "name": "stdout",
     "output_type": "stream",
     "text": [
      "0:\tlearn: 0.6920339\ttest: 0.6920413\tbest: 0.6920413 (0)\ttotal: 4.37ms\tremaining: 433ms\n",
      "10:\tlearn: 0.6820454\ttest: 0.6821232\tbest: 0.6821232 (10)\ttotal: 42ms\tremaining: 340ms\n",
      "20:\tlearn: 0.6675022\ttest: 0.6652223\tbest: 0.6652223 (20)\ttotal: 85.8ms\tremaining: 323ms\n",
      "30:\tlearn: 0.6529174\ttest: 0.6478790\tbest: 0.6478790 (30)\ttotal: 124ms\tremaining: 276ms\n",
      "40:\tlearn: 0.6404790\ttest: 0.6330350\tbest: 0.6330350 (40)\ttotal: 160ms\tremaining: 230ms\n",
      "50:\tlearn: 0.6300694\ttest: 0.6200727\tbest: 0.6200727 (50)\ttotal: 197ms\tremaining: 190ms\n",
      "60:\tlearn: 0.6197152\ttest: 0.6070259\tbest: 0.6070259 (60)\ttotal: 238ms\tremaining: 152ms\n",
      "70:\tlearn: 0.6076954\ttest: 0.5916937\tbest: 0.5916937 (70)\ttotal: 275ms\tremaining: 112ms\n",
      "80:\tlearn: 0.5972827\ttest: 0.5783824\tbest: 0.5783824 (80)\ttotal: 313ms\tremaining: 73.3ms\n",
      "90:\tlearn: 0.5882480\ttest: 0.5665336\tbest: 0.5665336 (90)\ttotal: 349ms\tremaining: 34.5ms\n",
      "99:\tlearn: 0.5810359\ttest: 0.5568742\tbest: 0.5568742 (99)\ttotal: 382ms\tremaining: 0us\n",
      "\n",
      "bestTest = 0.5568742223\n",
      "bestIteration = 99\n",
      "\n"
     ]
    },
    {
     "data": {
      "text/plain": [
       "<catboost.core.CatBoostClassifier at 0x1094cea90>"
      ]
     },
     "execution_count": 10,
     "metadata": {},
     "output_type": "execute_result"
    }
   ],
   "source": [
    "model=cbt.CatBoostClassifier(iterations=100, learning_rate=0.01, depth=3, loss_function=\"CrossEntropy\", verbose=10)\n",
    "\n",
    "model.fit(trainset, eval_set=valset)"
   ]
  }
 ],
 "metadata": {
  "kernelspec": {
   "display_name": "Python 3.8.15 ('cbt')",
   "language": "python",
   "name": "python3"
  },
  "language_info": {
   "codemirror_mode": {
    "name": "ipython",
    "version": 3
   },
   "file_extension": ".py",
   "mimetype": "text/x-python",
   "name": "python",
   "nbconvert_exporter": "python",
   "pygments_lexer": "ipython3",
   "version": "3.8.15"
  },
  "orig_nbformat": 4,
  "vscode": {
   "interpreter": {
    "hash": "9d9781d2d9dbaa7d281bba8326cbff292d178086b94834ea6885c9e0ceb428ee"
   }
  }
 },
 "nbformat": 4,
 "nbformat_minor": 2
}
