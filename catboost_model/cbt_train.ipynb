{
 "cells": [
  {
   "cell_type": "code",
   "execution_count": 1,
   "metadata": {},
   "outputs": [
    {
     "data": {
      "text/plain": [
       "'/Users/dongzheng/Codes/PythonWorkspace/CSE5005-Project/catboost_model'"
      ]
     },
     "execution_count": 1,
     "metadata": {},
     "output_type": "execute_result"
    }
   ],
   "source": [
    "import numpy as np\n",
    "import pandas as pd\n",
    "import catboost as cbt\n",
    "from sklearn.metrics import accuracy_score\n",
    "\n",
    "from IPython.core.interactiveshell import InteractiveShell\n",
    "\n",
    "InteractiveShell.ast_node_interactivity = \"all\"\n",
    "\n",
    "%pwd"
   ]
  },
  {
   "cell_type": "code",
   "execution_count": 2,
   "metadata": {},
   "outputs": [
    {
     "data": {
      "text/plain": [
       "(99998, 5)"
      ]
     },
     "execution_count": 2,
     "metadata": {},
     "output_type": "execute_result"
    },
    {
     "data": {
      "text/plain": [
       "(99998,)"
      ]
     },
     "execution_count": 2,
     "metadata": {},
     "output_type": "execute_result"
    }
   ],
   "source": [
    "def gen_xy(sequence):\n",
    "    \"\"\"\n",
    "    Returns\n",
    "    ---\n",
    "    x: (num_samples, 5)\n",
    "    y: (num_samples,) 1-d vec for labels\n",
    "    \"\"\"\n",
    "\n",
    "    x, y = [], []\n",
    "    for i in range(len(sequence) - 2):\n",
    "        x.append(sequence[i : i + 2])\n",
    "        y.append(sequence[i + 1])\n",
    "\n",
    "    x = np.array(x)\n",
    "    x = x.reshape(x.shape[0], x.shape[1] * x.shape[2])\n",
    "    x = x[:, :5]\n",
    "    y = np.array(y)\n",
    "\n",
    "    if len(y.shape) > 1:\n",
    "        y = y[:, -1]\n",
    "\n",
    "    return x, y\n",
    "\n",
    "sequence = pd.read_pickle(\"../data/data_100000_distr.pkl\")[\n",
    "    [\"from_user_id\", \"to_user_id\", \"label\"]\n",
    "].values\n",
    "\n",
    "x, y=gen_xy(sequence)\n",
    "\n",
    "x.shape\n",
    "y.shape"
   ]
  },
  {
   "cell_type": "code",
   "execution_count": 3,
   "metadata": {},
   "outputs": [
    {
     "name": "stdout",
     "output_type": "stream",
     "text": [
      "Trainset:\tx-(69998, 5)\ty-(69998,)\n",
      "Valset:  \tx-(10002, 5)  \ty-(10002,)\n",
      "Testset:\tx-(19998, 5)\ty-(19998,)\n"
     ]
    }
   ],
   "source": [
    "train_size=0.7\n",
    "val_size=0.1\n",
    "cat_feat_index=[0, 1, 2, 3, 4]\n",
    "\n",
    "split1 = int(len(x) * train_size)\n",
    "split2 = int(len(sequence) * (train_size + val_size))\n",
    "\n",
    "x_train, y_train = x[:split1], y[:split1]\n",
    "x_val, y_val = x[split1:split2], y[split1:split2]\n",
    "x_test, y_test = x[split2:], y[split2:]\n",
    "\n",
    "print(f\"Trainset:\\tx-{x_train.shape}\\ty-{y_train.shape}\")\n",
    "print(f\"Valset:  \\tx-{x_val.shape}  \\ty-{y_val.shape}\")\n",
    "print(f\"Testset:\\tx-{x_test.shape}\\ty-{y_test.shape}\")\n",
    "\n",
    "trainset=cbt.Pool(data=x_train, label=y_train, cat_features=cat_feat_index)\n",
    "valset=cbt.Pool(data=x_val, label=y_val, cat_features=cat_feat_index)\n",
    "testset=cbt.Pool(data=x_test, label=y_test, cat_features=cat_feat_index)"
   ]
  },
  {
   "cell_type": "code",
   "execution_count": 70,
   "metadata": {},
   "outputs": [],
   "source": [
    "cbt_params = {\n",
    "    \"iterations\": 5000,\n",
    "    \"early_stopping_rounds\": 100,\n",
    "    \"learning_rate\": 0.05,\n",
    "    \"random_seed\": 510,\n",
    "    \"loss_function\": \"CrossEntropy\",\n",
    "    \n",
    "    \"od_type\": \"Iter\",\n",
    "    \n",
    "    \"max_depth\": 6,\n",
    "    # \"l2_leaf_reg\": 100,\n",
    "    # \"subsample\": 0.8,\n",
    "    \n",
    "    # \"min_data_in_leaf\": 10,\n",
    "    # \"leaf_estimation_method\": \"Exact\",\n",
    "    # \"grow_policy\": \"Depthwise\",\n",
    "    # \"bootstrap_type\": \"Poisson\",\n",
    "    # \"max_leaves\": 30,\n",
    "    \n",
    "    # \"thread_count\": 24,\n",
    "    \"verbose\": 100,\n",
    "    # \"task_type\": \"GPU\"\n",
    "}"
   ]
  },
  {
   "cell_type": "code",
   "execution_count": 71,
   "metadata": {},
   "outputs": [
    {
     "name": "stdout",
     "output_type": "stream",
     "text": [
      "0:\tlearn: 0.6748238\ttest: 0.6714616\tbest: 0.6714616 (0)\ttotal: 21.5ms\tremaining: 1m 47s\n",
      "100:\tlearn: 0.4657882\ttest: 0.4145051\tbest: 0.4145051 (100)\ttotal: 1.71s\tremaining: 1m 22s\n",
      "200:\tlearn: 0.4578758\ttest: 0.4081163\tbest: 0.4081163 (200)\ttotal: 3.37s\tremaining: 1m 20s\n",
      "300:\tlearn: 0.4534900\ttest: 0.4062383\tbest: 0.4062340 (299)\ttotal: 4.92s\tremaining: 1m 16s\n",
      "400:\tlearn: 0.4500548\ttest: 0.4054174\tbest: 0.4054112 (396)\ttotal: 6.44s\tremaining: 1m 13s\n",
      "500:\tlearn: 0.4470739\ttest: 0.4048188\tbest: 0.4048188 (500)\ttotal: 7.95s\tremaining: 1m 11s\n",
      "600:\tlearn: 0.4442287\ttest: 0.4044686\tbest: 0.4044618 (593)\ttotal: 9.45s\tremaining: 1m 9s\n",
      "700:\tlearn: 0.4417441\ttest: 0.4042827\tbest: 0.4042724 (693)\ttotal: 11s\tremaining: 1m 7s\n",
      "800:\tlearn: 0.4393144\ttest: 0.4041263\tbest: 0.4040939 (785)\ttotal: 12.4s\tremaining: 1m 5s\n",
      "900:\tlearn: 0.4371743\ttest: 0.4041350\tbest: 0.4040672 (876)\ttotal: 13.9s\tremaining: 1m 3s\n",
      "1000:\tlearn: 0.4350787\ttest: 0.4042275\tbest: 0.4040469 (930)\ttotal: 15.4s\tremaining: 1m 1s\n",
      "Stopped by overfitting detector  (100 iterations wait)\n",
      "\n",
      "bestTest = 0.4040468626\n",
      "bestIteration = 930\n",
      "\n",
      "Shrink model to first 931 iterations.\n"
     ]
    },
    {
     "data": {
      "text/plain": [
       "<catboost.core.CatBoostClassifier at 0x146f6fca0>"
      ]
     },
     "execution_count": 71,
     "metadata": {},
     "output_type": "execute_result"
    }
   ],
   "source": [
    "model=cbt.CatBoostClassifier(**cbt_params)\n",
    "\n",
    "model.fit(trainset, eval_set=valset)"
   ]
  },
  {
   "cell_type": "code",
   "execution_count": 72,
   "metadata": {},
   "outputs": [
    {
     "data": {
      "text/plain": [
       "0.8858538815394725"
      ]
     },
     "execution_count": 72,
     "metadata": {},
     "output_type": "execute_result"
    },
    {
     "data": {
      "text/plain": [
       "0.8095380923815237"
      ]
     },
     "execution_count": 72,
     "metadata": {},
     "output_type": "execute_result"
    },
    {
     "data": {
      "text/plain": [
       "0.7532253225322533"
      ]
     },
     "execution_count": 72,
     "metadata": {},
     "output_type": "execute_result"
    }
   ],
   "source": [
    "y_train_pred=model.predict(x_train, verbose=True)\n",
    "y_val_pred=model.predict(x_val, verbose=True)\n",
    "y_pred=model.predict(x_test, verbose=True)\n",
    "\n",
    "accuracy_score(y_train, y_train_pred)\n",
    "accuracy_score(y_val, y_val_pred)\n",
    "accuracy_score(y_test, y_pred)"
   ]
  },
  {
   "cell_type": "code",
   "execution_count": 6,
   "metadata": {},
   "outputs": [
    {
     "data": {
      "text/html": [
       "<style>#sk-container-id-2 {color: black;background-color: white;}#sk-container-id-2 pre{padding: 0;}#sk-container-id-2 div.sk-toggleable {background-color: white;}#sk-container-id-2 label.sk-toggleable__label {cursor: pointer;display: block;width: 100%;margin-bottom: 0;padding: 0.3em;box-sizing: border-box;text-align: center;}#sk-container-id-2 label.sk-toggleable__label-arrow:before {content: \"▸\";float: left;margin-right: 0.25em;color: #696969;}#sk-container-id-2 label.sk-toggleable__label-arrow:hover:before {color: black;}#sk-container-id-2 div.sk-estimator:hover label.sk-toggleable__label-arrow:before {color: black;}#sk-container-id-2 div.sk-toggleable__content {max-height: 0;max-width: 0;overflow: hidden;text-align: left;background-color: #f0f8ff;}#sk-container-id-2 div.sk-toggleable__content pre {margin: 0.2em;color: black;border-radius: 0.25em;background-color: #f0f8ff;}#sk-container-id-2 input.sk-toggleable__control:checked~div.sk-toggleable__content {max-height: 200px;max-width: 100%;overflow: auto;}#sk-container-id-2 input.sk-toggleable__control:checked~label.sk-toggleable__label-arrow:before {content: \"▾\";}#sk-container-id-2 div.sk-estimator input.sk-toggleable__control:checked~label.sk-toggleable__label {background-color: #d4ebff;}#sk-container-id-2 div.sk-label input.sk-toggleable__control:checked~label.sk-toggleable__label {background-color: #d4ebff;}#sk-container-id-2 input.sk-hidden--visually {border: 0;clip: rect(1px 1px 1px 1px);clip: rect(1px, 1px, 1px, 1px);height: 1px;margin: -1px;overflow: hidden;padding: 0;position: absolute;width: 1px;}#sk-container-id-2 div.sk-estimator {font-family: monospace;background-color: #f0f8ff;border: 1px dotted black;border-radius: 0.25em;box-sizing: border-box;margin-bottom: 0.5em;}#sk-container-id-2 div.sk-estimator:hover {background-color: #d4ebff;}#sk-container-id-2 div.sk-parallel-item::after {content: \"\";width: 100%;border-bottom: 1px solid gray;flex-grow: 1;}#sk-container-id-2 div.sk-label:hover label.sk-toggleable__label {background-color: #d4ebff;}#sk-container-id-2 div.sk-serial::before {content: \"\";position: absolute;border-left: 1px solid gray;box-sizing: border-box;top: 0;bottom: 0;left: 50%;z-index: 0;}#sk-container-id-2 div.sk-serial {display: flex;flex-direction: column;align-items: center;background-color: white;padding-right: 0.2em;padding-left: 0.2em;position: relative;}#sk-container-id-2 div.sk-item {position: relative;z-index: 1;}#sk-container-id-2 div.sk-parallel {display: flex;align-items: stretch;justify-content: center;background-color: white;position: relative;}#sk-container-id-2 div.sk-item::before, #sk-container-id-2 div.sk-parallel-item::before {content: \"\";position: absolute;border-left: 1px solid gray;box-sizing: border-box;top: 0;bottom: 0;left: 50%;z-index: -1;}#sk-container-id-2 div.sk-parallel-item {display: flex;flex-direction: column;z-index: 1;position: relative;background-color: white;}#sk-container-id-2 div.sk-parallel-item:first-child::after {align-self: flex-end;width: 50%;}#sk-container-id-2 div.sk-parallel-item:last-child::after {align-self: flex-start;width: 50%;}#sk-container-id-2 div.sk-parallel-item:only-child::after {width: 0;}#sk-container-id-2 div.sk-dashed-wrapped {border: 1px dashed gray;margin: 0 0.4em 0.5em 0.4em;box-sizing: border-box;padding-bottom: 0.4em;background-color: white;}#sk-container-id-2 div.sk-label label {font-family: monospace;font-weight: bold;display: inline-block;line-height: 1.2em;}#sk-container-id-2 div.sk-label-container {text-align: center;}#sk-container-id-2 div.sk-container {/* jupyter's `normalize.less` sets `[hidden] { display: none; }` but bootstrap.min.css set `[hidden] { display: none !important; }` so we also need the `!important` here to be able to override the default hidden behavior on the sphinx rendered scikit-learn.org. See: https://github.com/scikit-learn/scikit-learn/issues/21755 */display: inline-block !important;position: relative;}#sk-container-id-2 div.sk-text-repr-fallback {display: none;}</style><div id=\"sk-container-id-2\" class=\"sk-top-container\"><div class=\"sk-text-repr-fallback\"><pre>SVC()</pre><b>In a Jupyter environment, please rerun this cell to show the HTML representation or trust the notebook. <br />On GitHub, the HTML representation is unable to render, please try loading this page with nbviewer.org.</b></div><div class=\"sk-container\" hidden><div class=\"sk-item\"><div class=\"sk-estimator sk-toggleable\"><input class=\"sk-toggleable__control sk-hidden--visually\" id=\"sk-estimator-id-2\" type=\"checkbox\" checked><label for=\"sk-estimator-id-2\" class=\"sk-toggleable__label sk-toggleable__label-arrow\">SVC</label><div class=\"sk-toggleable__content\"><pre>SVC()</pre></div></div></div></div></div>"
      ],
      "text/plain": [
       "SVC()"
      ]
     },
     "execution_count": 6,
     "metadata": {},
     "output_type": "execute_result"
    },
    {
     "data": {
      "text/plain": [
       "0.4963496349634963"
      ]
     },
     "execution_count": 6,
     "metadata": {},
     "output_type": "execute_result"
    }
   ],
   "source": [
    "from sklearn.svm import SVC\n",
    "\n",
    "svc=SVC()\n",
    "svc.fit(x_train, y_train)\n",
    "\n",
    "y_pred=svc.predict(x_test)\n",
    "accuracy_score(y_test, y_pred)"
   ]
  }
 ],
 "metadata": {
  "kernelspec": {
   "display_name": "Python 3.8.15 ('cbt')",
   "language": "python",
   "name": "python3"
  },
  "language_info": {
   "codemirror_mode": {
    "name": "ipython",
    "version": 3
   },
   "file_extension": ".py",
   "mimetype": "text/x-python",
   "name": "python",
   "nbconvert_exporter": "python",
   "pygments_lexer": "ipython3",
   "version": "3.8.15"
  },
  "orig_nbformat": 4,
  "vscode": {
   "interpreter": {
    "hash": "9d9781d2d9dbaa7d281bba8326cbff292d178086b94834ea6885c9e0ceb428ee"
   }
  }
 },
 "nbformat": 4,
 "nbformat_minor": 2
}
