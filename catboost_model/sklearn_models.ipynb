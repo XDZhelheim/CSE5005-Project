{
 "cells": [
  {
   "cell_type": "code",
   "execution_count": 16,
   "metadata": {},
   "outputs": [
    {
     "data": {
      "text/plain": [
       "'/Users/dongzheng/Codes/PythonWorkspace/CSE5005-Project/catboost_model'"
      ]
     },
     "execution_count": 16,
     "metadata": {},
     "output_type": "execute_result"
    }
   ],
   "source": [
    "import numpy as np\n",
    "import pandas as pd\n",
    "from sklearn.metrics import accuracy_score\n",
    "\n",
    "from IPython.core.interactiveshell import InteractiveShell\n",
    "\n",
    "InteractiveShell.ast_node_interactivity = \"all\"\n",
    "\n",
    "%pwd"
   ]
  },
  {
   "cell_type": "code",
   "execution_count": 17,
   "metadata": {},
   "outputs": [],
   "source": [
    "num_users=5000\n",
    "eye=np.eye(num_users)\n",
    "def onehot_encode(x):\n",
    "    return eye[x]"
   ]
  },
  {
   "cell_type": "code",
   "execution_count": 18,
   "metadata": {},
   "outputs": [
    {
     "ename": "KeyboardInterrupt",
     "evalue": "",
     "output_type": "error",
     "traceback": [
      "\u001b[0;31m---------------------------------------------------------------------------\u001b[0m",
      "\u001b[0;31mKeyboardInterrupt\u001b[0m                         Traceback (most recent call last)",
      "Cell \u001b[0;32mIn[18], line 28\u001b[0m\n\u001b[1;32m     22\u001b[0m     \u001b[39mreturn\u001b[39;00m x, y\n\u001b[1;32m     24\u001b[0m sequence \u001b[39m=\u001b[39m pd\u001b[39m.\u001b[39mread_pickle(\u001b[39m\"\u001b[39m\u001b[39m../data/data_100000_distr.pkl\u001b[39m\u001b[39m\"\u001b[39m)[\n\u001b[1;32m     25\u001b[0m     [\u001b[39m\"\u001b[39m\u001b[39mfrom_user_id\u001b[39m\u001b[39m\"\u001b[39m, \u001b[39m\"\u001b[39m\u001b[39mto_user_id\u001b[39m\u001b[39m\"\u001b[39m, \u001b[39m\"\u001b[39m\u001b[39mlabel\u001b[39m\u001b[39m\"\u001b[39m]\n\u001b[1;32m     26\u001b[0m ]\u001b[39m.\u001b[39mvalues\n\u001b[0;32m---> 28\u001b[0m x, y\u001b[39m=\u001b[39mgen_xy(sequence)\n\u001b[1;32m     30\u001b[0m x\u001b[39m.\u001b[39mshape\n\u001b[1;32m     31\u001b[0m y\u001b[39m.\u001b[39mshape\n",
      "Cell \u001b[0;32mIn[18], line 11\u001b[0m, in \u001b[0;36mgen_xy\u001b[0;34m(sequence)\u001b[0m\n\u001b[1;32m      9\u001b[0m x, y \u001b[39m=\u001b[39m [], []\n\u001b[1;32m     10\u001b[0m \u001b[39mfor\u001b[39;00m i \u001b[39min\u001b[39;00m \u001b[39mrange\u001b[39m(\u001b[39mlen\u001b[39m(sequence) \u001b[39m-\u001b[39m \u001b[39m2\u001b[39m):\n\u001b[0;32m---> 11\u001b[0m     x\u001b[39m.\u001b[39mappend([\u001b[39m*\u001b[39monehot_encode(sequence[i][\u001b[39m0\u001b[39m]), \u001b[39m*\u001b[39monehot_encode(sequence[i][\u001b[39m1\u001b[39m]), \u001b[39m*\u001b[39monehot_encode(sequence[i\u001b[39m+\u001b[39m\u001b[39m1\u001b[39m][\u001b[39m0\u001b[39m]), \u001b[39m*\u001b[39monehot_encode(sequence[i\u001b[39m+\u001b[39m\u001b[39m1\u001b[39m][\u001b[39m1\u001b[39m]), \u001b[39m*\u001b[39monehot_encode(sequence[i][\u001b[39m2\u001b[39m])])\n\u001b[1;32m     12\u001b[0m     y\u001b[39m.\u001b[39mappend(sequence[i \u001b[39m+\u001b[39m \u001b[39m1\u001b[39m][\u001b[39m-\u001b[39m\u001b[39m1\u001b[39m])\n\u001b[1;32m     14\u001b[0m x \u001b[39m=\u001b[39m np\u001b[39m.\u001b[39marray(x)\n",
      "\u001b[0;31mKeyboardInterrupt\u001b[0m: "
     ]
    }
   ],
   "source": [
    "def gen_xy(sequence):\n",
    "    \"\"\"\n",
    "    Returns\n",
    "    ---\n",
    "    x: (num_samples, 5)\n",
    "    y: (num_samples,) 1-d vec for labels\n",
    "    \"\"\"\n",
    "\n",
    "    x, y = [], []\n",
    "    for i in range(len(sequence) - 2):\n",
    "        x.append([*onehot_encode(sequence[i][0]), *onehot_encode(sequence[i][1]), *onehot_encode(sequence[i+1][0]), *onehot_encode(sequence[i+1][1]), *onehot_encode(sequence[i][2])])\n",
    "        y.append(sequence[i + 1][-1])\n",
    "\n",
    "    x = np.array(x)\n",
    "    # x = x.reshape(x.shape[0], x.shape[1] * x.shape[2])\n",
    "    # x = x[:, :5]\n",
    "    y = np.array(y)\n",
    "\n",
    "    # if len(y.shape) > 1:\n",
    "    #     y = y[:, -1]\n",
    "\n",
    "    return x, y\n",
    "\n",
    "sequence = pd.read_pickle(\"../data/data_100000_distr.pkl\")[\n",
    "    [\"from_user_id\", \"to_user_id\", \"label\"]\n",
    "].values\n",
    "\n",
    "x, y=gen_xy(sequence)\n",
    "\n",
    "x.shape\n",
    "y.shape"
   ]
  },
  {
   "cell_type": "code",
   "execution_count": null,
   "metadata": {},
   "outputs": [],
   "source": [
    "train_size=0.7\n",
    "val_size=0.1\n",
    "\n",
    "split1 = int(len(x) * train_size)\n",
    "split2 = int(len(sequence) * (train_size + val_size))\n",
    "\n",
    "x_train, y_train = x[:split1], y[:split1]\n",
    "x_val, y_val = x[split1:split2], y[split1:split2]\n",
    "x_test, y_test = x[split2:], y[split2:]\n",
    "\n",
    "print(f\"Trainset:\\tx-{x_train.shape}\\ty-{y_train.shape}\")\n",
    "print(f\"Valset:  \\tx-{x_val.shape}  \\ty-{y_val.shape}\")\n",
    "print(f\"Testset:\\tx-{x_test.shape}\\ty-{y_test.shape}\")"
   ]
  },
  {
   "cell_type": "code",
   "execution_count": null,
   "metadata": {},
   "outputs": [],
   "source": [
    "from sklearn.svm import SVC\n",
    "\n",
    "svc=SVC()\n",
    "svc.fit(x_train, y_train)\n",
    "\n",
    "y_pred=svc.predict(x_test)\n",
    "accuracy_score(y_test, y_pred)"
   ]
  }
 ],
 "metadata": {
  "kernelspec": {
   "display_name": "Python 3.8.15 ('cbt')",
   "language": "python",
   "name": "python3"
  },
  "language_info": {
   "codemirror_mode": {
    "name": "ipython",
    "version": 3
   },
   "file_extension": ".py",
   "mimetype": "text/x-python",
   "name": "python",
   "nbconvert_exporter": "python",
   "pygments_lexer": "ipython3",
   "version": "3.8.15"
  },
  "orig_nbformat": 4,
  "vscode": {
   "interpreter": {
    "hash": "9d9781d2d9dbaa7d281bba8326cbff292d178086b94834ea6885c9e0ceb428ee"
   }
  }
 },
 "nbformat": 4,
 "nbformat_minor": 2
}
