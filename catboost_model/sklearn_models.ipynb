{
 "cells": [
  {
   "cell_type": "code",
   "execution_count": 2,
   "metadata": {},
   "outputs": [
    {
     "data": {
      "text/plain": [
       "'/Users/dongzheng/Codes/PythonWorkspace/CSE5005-Project/catboost_model'"
      ]
     },
     "execution_count": 2,
     "metadata": {},
     "output_type": "execute_result"
    }
   ],
   "source": [
    "import numpy as np\n",
    "import pandas as pd\n",
    "from sklearn.metrics import accuracy_score\n",
    "\n",
    "%pwd"
   ]
  },
  {
   "cell_type": "code",
   "execution_count": 2,
   "metadata": {},
   "outputs": [],
   "source": [
    "# num_users=5000\n",
    "# eye=np.eye(num_users)\n",
    "# def onehot_encode(x):\n",
    "#     return eye[x]"
   ]
  },
  {
   "cell_type": "code",
   "execution_count": 3,
   "metadata": {},
   "outputs": [
    {
     "name": "stdout",
     "output_type": "stream",
     "text": [
      "(99998, 5)\n",
      "(99998,)\n"
     ]
    }
   ],
   "source": [
    "def gen_xy(sequence):\n",
    "    \"\"\"\n",
    "    Returns\n",
    "    ---\n",
    "    x: (num_samples, 5)\n",
    "    y: (num_samples,) 1-d vec for labels\n",
    "    \"\"\"\n",
    "\n",
    "    x, y = [], []\n",
    "    for i in range(len(sequence) - 2):\n",
    "        x.append(sequence[i : i + 2])\n",
    "        y.append(sequence[i + 1])\n",
    "\n",
    "    x = np.array(x)\n",
    "    x = x.reshape(x.shape[0], x.shape[1] * x.shape[2])\n",
    "    x = x[:, :5]\n",
    "    y = np.array(y)\n",
    "\n",
    "    if len(y.shape) > 1:\n",
    "        y = y[:, -1]\n",
    "\n",
    "    return x, y\n",
    "\n",
    "sequence = pd.read_pickle(\"../data/data_100000_distr.pkl\")[\n",
    "    [\"from_user_id\", \"to_user_id\", \"label\"]\n",
    "].values\n",
    "\n",
    "x, y=gen_xy(sequence)\n",
    "\n",
    "print(x.shape)\n",
    "print(y.shape)"
   ]
  },
  {
   "cell_type": "code",
   "execution_count": 4,
   "metadata": {},
   "outputs": [
    {
     "name": "stdout",
     "output_type": "stream",
     "text": [
      "Trainset:\tx-(69998, 5)\ty-(69998,)\n",
      "Valset:  \tx-(10002, 5)  \ty-(10002,)\n",
      "Testset:\tx-(19998, 5)\ty-(19998,)\n"
     ]
    }
   ],
   "source": [
    "train_size=0.7\n",
    "val_size=0.1\n",
    "\n",
    "split1 = int(len(x) * train_size)\n",
    "split2 = int(len(sequence) * (train_size + val_size))\n",
    "\n",
    "x_train, y_train = x[:split1], y[:split1]\n",
    "x_val, y_val = x[split1:split2], y[split1:split2]\n",
    "x_test, y_test = x[split2:], y[split2:]\n",
    "\n",
    "print(f\"Trainset:\\tx-{x_train.shape}\\ty-{y_train.shape}\")\n",
    "print(f\"Valset:  \\tx-{x_val.shape}  \\ty-{y_val.shape}\")\n",
    "print(f\"Testset:\\tx-{x_test.shape}\\ty-{y_test.shape}\")"
   ]
  },
  {
   "cell_type": "code",
   "execution_count": 5,
   "metadata": {},
   "outputs": [
    {
     "name": "stdout",
     "output_type": "stream",
     "text": [
      "0.5125289293979828\n",
      "0.5043991201759648\n",
      "0.4963496349634963\n"
     ]
    }
   ],
   "source": [
    "from sklearn.svm import SVC\n",
    "\n",
    "svc=SVC()\n",
    "svc.fit(x_train, y_train)\n",
    "\n",
    "y_train_pred=svc.predict(x_train)\n",
    "y_val_pred=svc.predict(x_val)\n",
    "y_pred=svc.predict(x_test)\n",
    "\n",
    "print(accuracy_score(y_train, y_train_pred))\n",
    "print(accuracy_score(y_val, y_val_pred))\n",
    "print(accuracy_score(y_test, y_pred))"
   ]
  },
  {
   "cell_type": "code",
   "execution_count": 6,
   "metadata": {},
   "outputs": [
    {
     "data": {
      "text/plain": [
       "[0.5034003400340034,\n",
       " 0.49964996499649966,\n",
       " 0.4977997799779978,\n",
       " 0.4967496749674967,\n",
       " 0.5,\n",
       " 0.4968996899689969,\n",
       " 0.4973497349734973,\n",
       " 0.4952995299529953,\n",
       " 0.4963996399639964]"
      ]
     },
     "execution_count": 6,
     "metadata": {},
     "output_type": "execute_result"
    }
   ],
   "source": [
    "from sklearn.neighbors import KNeighborsClassifier\n",
    "\n",
    "train_acc=[]\n",
    "test_acc=[]\n",
    "for k in range(1, 10):\n",
    "    knn=KNeighborsClassifier(n_neighbors=k)\n",
    "    knn.fit(x_train, y_train)\n",
    "\n",
    "    train_acc.append(knn.score(x_train, y_train))\n",
    "    test_acc.append(knn.score(x_test, y_test))\n",
    "    \n",
    "test_acc"
   ]
  },
  {
   "cell_type": "code",
   "execution_count": 9,
   "metadata": {},
   "outputs": [
    {
     "name": "stdout",
     "output_type": "stream",
     "text": [
      "0.6882053772964942\n",
      "0.49750049990002\n",
      "0.5\n"
     ]
    }
   ],
   "source": [
    "knn=KNeighborsClassifier(n_neighbors=5)\n",
    "knn.fit(x_train, y_train)\n",
    "\n",
    "y_train_pred=knn.predict(x_train)\n",
    "y_val_pred=knn.predict(x_val)\n",
    "y_pred=knn.predict(x_test)\n",
    "\n",
    "print(accuracy_score(y_train, y_train_pred))\n",
    "print(accuracy_score(y_val, y_val_pred))\n",
    "print(accuracy_score(y_test, y_pred))"
   ]
  },
  {
   "cell_type": "code",
   "execution_count": 28,
   "metadata": {},
   "outputs": [
    {
     "name": "stdout",
     "output_type": "stream",
     "text": [
      "0.6675762164633275\n",
      "0.6666666666666666\n",
      "0.6712671267126713\n"
     ]
    }
   ],
   "source": [
    "from sklearn import tree\n",
    "\n",
    "clf=tree.DecisionTreeClassifier(criterion=\"gini\", max_depth=3)\n",
    "clf=clf.fit(x_train, y_train)\n",
    "\n",
    "y_train_pred=clf.predict(x_train)\n",
    "y_val_pred=clf.predict(x_val)\n",
    "y_pred=clf.predict(x_test)\n",
    "\n",
    "print(accuracy_score(y_train, y_train_pred))\n",
    "print(accuracy_score(y_val, y_val_pred))\n",
    "print(accuracy_score(y_test, y_pred))"
   ]
  },
  {
   "cell_type": "code",
   "execution_count": 39,
   "metadata": {},
   "outputs": [
    {
     "name": "stdout",
     "output_type": "stream",
     "text": [
      "0.6676905054430127\n",
      "0.6662667466506699\n",
      "0.6712171217121712\n"
     ]
    }
   ],
   "source": [
    "et=tree.ExtraTreeClassifier(criterion=\"gini\", splitter=\"best\", max_depth=5)\n",
    "et=et.fit(x_train, y_train)\n",
    "\n",
    "y_train_pred=et.predict(x_train)\n",
    "y_val_pred=et.predict(x_val)\n",
    "y_pred=et.predict(x_test)\n",
    "\n",
    "print(accuracy_score(y_train, y_train_pred))\n",
    "print(accuracy_score(y_val, y_val_pred))\n",
    "print(accuracy_score(y_test, y_pred))"
   ]
  },
  {
   "cell_type": "code",
   "execution_count": 58,
   "metadata": {},
   "outputs": [
    {
     "name": "stdout",
     "output_type": "stream",
     "text": [
      "0.6674619274836424\n",
      "0.6666666666666666\n",
      "0.6712671267126713\n"
     ]
    }
   ],
   "source": [
    "from sklearn.ensemble import RandomForestClassifier\n",
    "\n",
    "rf=RandomForestClassifier(n_estimators=50, max_depth=5)\n",
    "rf=rf.fit(x_train, y_train)\n",
    "\n",
    "y_train_pred=rf.predict(x_train)\n",
    "y_val_pred=rf.predict(x_val)\n",
    "y_pred=rf.predict(x_test)\n",
    "\n",
    "print(accuracy_score(y_train, y_train_pred))\n",
    "print(accuracy_score(y_val, y_val_pred))\n",
    "print(accuracy_score(y_test, y_pred))"
   ]
  },
  {
   "cell_type": "code",
   "execution_count": 1,
   "metadata": {},
   "outputs": [
    {
     "name": "stdout",
     "output_type": "stream",
     "text": [
      "Trainset:\tx-(69838, 5)\ty-(69838,)\n",
      "Valset:  \tx-(9978, 5)  \ty-(9978,)\n",
      "Testset:\tx-(19953, 5)\ty-(19953,)\n",
      "<class 'sklearn.neighbors._classification.KNeighborsClassifier'>\n",
      "0.8129098771442481\n",
      "0.7568651032270997\n",
      "0.7425950984814313\n",
      "<class 'sklearn.tree._classes.DecisionTreeClassifier'>\n",
      "0.7963429651479137\n",
      "0.7908398476648627\n",
      "0.7761740089209642\n",
      "<class 'sklearn.tree._classes.ExtraTreeClassifier'>\n",
      "0.7968154872705404\n",
      "0.7909400681499299\n",
      "0.7762742444745151\n",
      "<class 'sklearn.ensemble._forest.RandomForestClassifier'>\n",
      "0.7963429651479137\n",
      "0.7908398476648627\n",
      "0.7761740089209642\n",
      "<class 'sklearn.svm._classes.SVC'>\n",
      "0.7963429651479137\n",
      "0.7908398476648627\n",
      "0.7761740089209642\n"
     ]
    }
   ],
   "source": [
    "%run sklearn_models.py"
   ]
  }
 ],
 "metadata": {
  "kernelspec": {
   "display_name": "Python 3.8.15 ('cbt')",
   "language": "python",
   "name": "python3"
  },
  "language_info": {
   "codemirror_mode": {
    "name": "ipython",
    "version": 3
   },
   "file_extension": ".py",
   "mimetype": "text/x-python",
   "name": "python",
   "nbconvert_exporter": "python",
   "pygments_lexer": "ipython3",
   "version": "3.8.15"
  },
  "orig_nbformat": 4,
  "vscode": {
   "interpreter": {
    "hash": "9d9781d2d9dbaa7d281bba8326cbff292d178086b94834ea6885c9e0ceb428ee"
   }
  }
 },
 "nbformat": 4,
 "nbformat_minor": 2
}
